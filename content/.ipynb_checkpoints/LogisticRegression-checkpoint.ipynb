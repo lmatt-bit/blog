{
 "cells": [
  {
   "cell_type": "markdown",
   "metadata": {},
   "source": [
    "Logistic Regression是一个用来分类的机器学习算法。\n",
    "## Logistic Regression Hypothesis\n",
    "\n",
    "$$H_\\theta(x)=\\frac{1}{1+e^{-\\theta{x}}}$$\n",
    "\n",
    "其中$\\theta$是需要得到的参数，$x_i$是每一组数据的feature。\n",
    "\n",
    "## Logistic Regression Cost Function\n",
    "\n",
    "对于这个Hypothesis，其中$y_i=1$的probability是$H_\\theta(x_i)$的值，$y_i=0$时的probability是$1-H_\\theta(x_i)$。为了满足maxinum likelihood, 基于目前的训练数据有：\n",
    "$$Likelihood=\\prod_{i=1}^{n} [(1 - y_i)(1 - H_\\theta(x_i))+y_iH_\\theta(x_i)]$$\n",
    "$$\\log(Likelihood)=\\sum_{i=1}^n \\log[(1 - y_i)(1 - H_\\theta(x_i))+y_iH_\\theta(x_i)]$$\n",
    "\n",
    "Cost function:\n",
    "$$J(\\theta)=-\\frac{1}{n}\\log(Likelihood)=-\\frac{1}{n}\\sum_{i=1}^n \\log[(1 - y_i)(1 - H_\\theta(x_i))+y_iH_\\theta(x_i)]$$\n",
    "\n",
    "目标是基于训练数据求使得cost最小的$\\theta$\n",
    "\n",
    "## Logistic Regression With Regularization\n",
    "\n",
    "L2 Regularization:\n",
    "$$J(\\theta)=-\\frac{1}{n}\\sum_{i=1}^n \\log[(1 - y_i)(1 - H_\\theta(x_i))+y_iH_\\theta(x_i)]+\\frac{\\lambda}{2n}\\sum_{j=1}^m \\theta_j^2$$\n",
    "其中n是数据的个数，m是feature的个数，$\\theta_0$没有在regularization项里面。\n",
    "\n",
    "L1 Regularization:\n",
    "$$J(\\theta)=-\\frac{1}{n}\\sum_{i=1}^n \\log[(1 - y_i)(1 - H_\\theta(x_i))+y_iH_\\theta(x_i)]+\\frac{\\lambda}{2n}\\sum_{j=1}^m |\\theta_j|$$\n",
    "\n",
    "## Softmax Regression (Or multinomial logistic regression)\n",
    "$$\n",
    "H_\\theta(x) = \n",
    "\\begin{bmatrix}\n",
    "P(y=1|x;\\theta) \\\\\n",
    "P(y=2|x;\\theta) \\\\\n",
    "\\vdots          \\\\\n",
    "P(y=K|x;\\theta)\n",
    "\\end{bmatrix}\n",
    "=\n",
    "\\frac{1}{\\sum_{j=1}^K e^{(\\theta^j{x})}}\n",
    "\\begin{bmatrix}\n",
    "e^{(\\theta^1{x})} \\\\\n",
    "e^{(\\theta^2{x})} \\\\\n",
    "\\vdots           \\\\\n",
    "e^{(\\theta^K{x})} \\\\\n",
    "\\end{bmatrix}\n",
    "$$\n",
    "\n",
    "$$\n",
    "J(\\theta)=-[\\sum_{i=1}^n \\sum_{k=1}^K 1\\{y^i=k\\}\\log\\frac{e^{\\theta^k x_i}}{\\sum_{j=1}^K e^{\\theta^j x_i}}]\n",
    "$$\n",
    "\n",
    "## Logistic Regression In scikit-learn\n",
    "在scikit-learn中，Logistic Regression的实现是在 [LogisiticRegression](http://scikit-learn.org/stable/modules/generated/sklearn.linear_model.LogisticRegression.html#sklearn.linear_model.LogisticRegression)。支持L2和L1的regularization。Multiclass既有one-vs-all的实现，也有真正的multinomial model。\n",
    "\n",
    "## Try Logistic Regression\n",
    "Data is from [Machine Learning-Andrew Ng](http://openclassroom.stanford.edu/MainFolder/DocumentPage.php?course=MachineLearning&doc=exercises/ex5/ex5.html)\n",
    "\n",
    "To use Contour Plot, reference to [this link](http://snowball.millersville.edu/~adecaria/ESCI386P/esci386-lesson13-2Dplots.pdf)"
   ]
  },
  {
   "cell_type": "code",
   "execution_count": 56,
   "metadata": {
    "collapsed": false
   },
   "outputs": [
    {
     "data": {
      "text/plain": [
       "<matplotlib.contour.QuadContourSet at 0x11d6649b0>"
      ]
     },
     "execution_count": 56,
     "metadata": {},
     "output_type": "execute_result"
    },
    {
     "data": {
      "image/png": "[encoded data removed]",
      "text/plain": [
       "<matplotlib.figure.Figure at 0x11db15a20>"
      ]
     },
     "metadata": {},
     "output_type": "display_data"
    }
   ],
   "source": [
    "import warnings\n",
    "warnings.filterwarnings('ignore')\n",
    "\n",
    "#Below is inline matplotlib\n",
    "%matplotlib inline\n",
    "\n",
    "import pandas as pd\n",
    "import numpy as np\n",
    "import matplotlib.pyplot as plt\n",
    "from matplotlib import cm\n",
    "from sklearn import linear_model\n",
    "from sklearn.preprocessing import PolynomialFeatures\n",
    "x = pd.read_csv('../data/LogisticRegression/ex5Logx.dat', header=None, names=['x1', 'x2'])\n",
    "y = pd.read_csv('../data/LogisticRegression/ex5Logy.dat', header=None, names=['y'])\n",
    "xy = pd.concat([x, y], axis=1)\n",
    "logistic = linear_model.LogisticRegression(C=100000) # The larger the C, the less regularization.\n",
    "poly = PolynomialFeatures(6) # Polynomial feature to overfit the data\n",
    "logistic.fit(poly.fit_transform(x), y)\n",
    "\n",
    "pos = xy[xy['y']==1]\n",
    "neg = xy[xy['y']==0]\n",
    "\n",
    "ax = pos.plot.scatter(x='x1', y='x2', marker='+', label='y=1')\n",
    "neg.plot.scatter(x='x1', y='x2', color='yellow', marker='o', label='y=0', ax=ax)\n",
    "\n",
    "x1c = np.linspace(-1.0, 1.2, 200)\n",
    "x2c = np.linspace(-1.0, 1.2, 200)\n",
    "z = np.zeros((len(x1c), len(x2c)))\n",
    "for i in range(len(x1c)):\n",
    "    for j in range(len(x2c)):\n",
    "        z[i,j] = logistic.predict(poly.fit_transform([[x1c[i], x2c[j]]]))[0]\n",
    "\n",
    "plt.contour(x1c, x2c, np.transpose(z), levels=[0], color='green', label='Decision boundary')"
   ]
  }
 ],
 "metadata": {
  "kernelspec": {
   "display_name": "Python 3",
   "language": "python",
   "name": "python3"
  },
  "language_info": {
   "codemirror_mode": {
    "name": "ipython",
    "version": 3
   },
   "file_extension": ".py",
   "mimetype": "text/x-python",
   "name": "python",
   "nbconvert_exporter": "python",
   "pygments_lexer": "ipython3",
   "version": "3.5.1"
  }
 },
 "nbformat": 4,
 "nbformat_minor": 0
}
