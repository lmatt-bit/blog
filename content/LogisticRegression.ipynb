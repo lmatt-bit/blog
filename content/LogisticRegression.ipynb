{
 "cells": [
  {
   "cell_type": "markdown",
   "metadata": {},
   "source": [
    "Logistic Regression是一个用来分类的机器学习算法。\n",
    "## Logistic Regression Hypothesis\n",
    "\n",
    "$$H_\\theta(x)=\\frac{1}{1+e^{-\\theta{x}}}$$\n",
    "\n",
    "其中$\\theta$是需要得到的参数，$x_i$是每一组数据的feature。\n",
    "\n",
    "## Logistic Regression Cost Function\n",
    "\n",
    "对于这个Hypothesis，其中$y_i=1$的probability是$H_\\theta(x_i)$的值，$y_i=0$时的probability是$1-H_\\theta(x_i)$。为了满足maxinum likelihood, 基于目前的训练数据有：\n",
    "$$Likelihood=\\prod_{i=1}^{n} [(1 - y_i)(1 - H_\\theta(x_i))+y_iH_\\theta(x_i)]$$\n",
    "$$\\log(Likelihood)=\\sum_{i=1}^n \\log[(1 - y_i)(1 - H_\\theta(x_i))+y_iH_\\theta(x_i)]$$\n",
    "\n",
    "Cost function:\n",
    "$$J(\\theta)=-\\frac{1}{n}\\log(Likelihood)=-\\frac{1}{n}\\sum_{i=1}^n \\log[(1 - y_i)(1 - H_\\theta(x_i))+y_iH_\\theta(x_i)]$$\n",
    "\n",
    "目标是基于训练数据求使得cost最小的$\\theta$\n",
    "\n",
    "## Softmax Regression (Or multinomial logistic regression)\n",
    "$$\n",
    "H_\\theta(x) = \n",
    "\\begin{bmatrix}\n",
    "P(y=1|x;\\theta) \\\\\n",
    "P(y=2|x;\\theta) \\\\\n",
    "\\vdots          \\\\\n",
    "P(y=K|x;\\theta)\n",
    "\\end{bmatrix}\n",
    "=\n",
    "\\frac{1}{\\sum_{j=1}^K e^{(\\theta^j{x})}}\n",
    "\\begin{bmatrix}\n",
    "e^{(\\theta^1{x})} \\\\\n",
    "e^{(\\theta^2{x})} \\\\\n",
    "\\vdots           \\\\\n",
    "e^{(\\theta^K{x})} \\\\\n",
    "\\end{bmatrix}\n",
    "$$\n",
    "\n",
    "$$\n",
    "J(\\theta)=-[\\sum_{i=1}^n \\sum_{k=1}^K 1\\{y^i=k\\}\\log\\frac{e^{\\theta^k x_i}}{\\sum_{j=1}^K e^{\\theta^j x_i}}]\n",
    "$$\n",
    "\n",
    "## Logistic Regression In scikit-learn\n",
    "在scikit-learn中，Logistic Regression的实现是在 [LogisiticRegression](http://scikit-learn.org/stable/modules/generated/sklearn.linear_model.LogisticRegression.html#sklearn.linear_model.LogisticRegression)。支持L2和L1的regularization。Multiclass既有one-vs-all的实现，也有真正的multinomial model。"
   ]
  }
 ],
 "metadata": {
  "kernelspec": {
   "display_name": "Python 3",
   "language": "python",
   "name": "python3"
  },
  "language_info": {
   "codemirror_mode": {
    "name": "ipython",
    "version": 3
   },
   "file_extension": ".py",
   "mimetype": "text/x-python",
   "name": "python",
   "nbconvert_exporter": "python",
   "pygments_lexer": "ipython3",
   "version": "3.5.1"
  }
 },
 "nbformat": 4,
 "nbformat_minor": 0
}
